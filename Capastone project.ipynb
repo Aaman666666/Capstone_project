{
 "cells": [
  {
   "cell_type": "markdown",
   "id": "f28cc4d8",
   "metadata": {},
   "source": [
    "### Import the libraries"
   ]
  },
  {
   "cell_type": "code",
   "execution_count": 1,
   "id": "26e8ad81",
   "metadata": {},
   "outputs": [],
   "source": [
    "import numpy as np \n",
    "import pandas as pd\n",
    "import seaborn as sns\n",
    "import matplotlib.pyplot as plt\n",
    "from sklearn.preprocessing import StandardScaler\n",
    "from sklearn.linear_model import LinearRegression\n",
    "from sklearn.model_selection import train_test_split,cross_val_score, GridSearchCV, StratifiedKFold\n",
    "from sklearn.ensemble import RandomForestRegressor, ExtraTreesRegressor\n",
    "from sklearn.tree import DecisionTreeRegressor\n",
    "import xgboost as xgb\n",
    "from sklearn.model_selection import cross_val_predict as cvp"
   ]
  },
  {
   "cell_type": "markdown",
   "id": "58dc8006",
   "metadata": {},
   "source": [
    "### Load the data"
   ]
  },
  {
   "cell_type": "code",
   "execution_count": 2,
   "id": "bd80087c",
   "metadata": {},
   "outputs": [],
   "source": [
    "train_data= pd.read_csv(\"C:\\\\Users\\\\hp\\\\Downloads\\\\train.csv\")\n",
    "test_data= pd.read_csv(\"C:\\\\Users\\\\hp\\\\Downloads\\\\test.csv\")"
   ]
  },
  {
   "cell_type": "code",
   "execution_count": 48,
   "id": "1b6f5f80",
   "metadata": {},
   "outputs": [
    {
     "data": {
      "text/html": [
       "<div>\n",
       "<style scoped>\n",
       "    .dataframe tbody tr th:only-of-type {\n",
       "        vertical-align: middle;\n",
       "    }\n",
       "\n",
       "    .dataframe tbody tr th {\n",
       "        vertical-align: top;\n",
       "    }\n",
       "\n",
       "    .dataframe thead th {\n",
       "        text-align: right;\n",
       "    }\n",
       "</style>\n",
       "<table border=\"1\" class=\"dataframe\">\n",
       "  <thead>\n",
       "    <tr style=\"text-align: right;\">\n",
       "      <th></th>\n",
       "      <th>Id</th>\n",
       "      <th>target</th>\n",
       "      <th>1</th>\n",
       "      <th>2</th>\n",
       "      <th>3</th>\n",
       "      <th>4</th>\n",
       "      <th>5</th>\n",
       "      <th>6</th>\n",
       "      <th>7</th>\n",
       "    </tr>\n",
       "  </thead>\n",
       "  <tbody>\n",
       "    <tr>\n",
       "      <th>0</th>\n",
       "      <td>0</td>\n",
       "      <td>5.85</td>\n",
       "      <td>4.80</td>\n",
       "      <td>5.85</td>\n",
       "      <td>NaN</td>\n",
       "      <td>NaN</td>\n",
       "      <td>NaN</td>\n",
       "      <td>NaN</td>\n",
       "      <td>NaN</td>\n",
       "    </tr>\n",
       "    <tr>\n",
       "      <th>1</th>\n",
       "      <td>3</td>\n",
       "      <td>4.28</td>\n",
       "      <td>5.88</td>\n",
       "      <td>6.84</td>\n",
       "      <td>NaN</td>\n",
       "      <td>NaN</td>\n",
       "      <td>NaN</td>\n",
       "      <td>NaN</td>\n",
       "      <td>NaN</td>\n",
       "    </tr>\n",
       "    <tr>\n",
       "      <th>2</th>\n",
       "      <td>4</td>\n",
       "      <td>3.97</td>\n",
       "      <td>3.20</td>\n",
       "      <td>2.70</td>\n",
       "      <td>NaN</td>\n",
       "      <td>NaN</td>\n",
       "      <td>NaN</td>\n",
       "      <td>NaN</td>\n",
       "      <td>NaN</td>\n",
       "    </tr>\n",
       "    <tr>\n",
       "      <th>3</th>\n",
       "      <td>5</td>\n",
       "      <td>5.95</td>\n",
       "      <td>7.70</td>\n",
       "      <td>7.06</td>\n",
       "      <td>NaN</td>\n",
       "      <td>NaN</td>\n",
       "      <td>NaN</td>\n",
       "      <td>NaN</td>\n",
       "      <td>NaN</td>\n",
       "    </tr>\n",
       "    <tr>\n",
       "      <th>4</th>\n",
       "      <td>6</td>\n",
       "      <td>4.70</td>\n",
       "      <td>5.50</td>\n",
       "      <td>5.30</td>\n",
       "      <td>NaN</td>\n",
       "      <td>NaN</td>\n",
       "      <td>NaN</td>\n",
       "      <td>NaN</td>\n",
       "      <td>NaN</td>\n",
       "    </tr>\n",
       "  </tbody>\n",
       "</table>\n",
       "</div>"
      ],
      "text/plain": [
       "   Id  target     1     2   3   4   5   6   7\n",
       "0   0    5.85  4.80  5.85 NaN NaN NaN NaN NaN\n",
       "1   3    4.28  5.88  6.84 NaN NaN NaN NaN NaN\n",
       "2   4    3.97  3.20  2.70 NaN NaN NaN NaN NaN\n",
       "3   5    5.95  7.70  7.06 NaN NaN NaN NaN NaN\n",
       "4   6    4.70  5.50  5.30 NaN NaN NaN NaN NaN"
      ]
     },
     "execution_count": 48,
     "metadata": {},
     "output_type": "execute_result"
    }
   ],
   "source": [
    "train_data.head()"
   ]
  },
  {
   "cell_type": "markdown",
   "id": "3688b6ef",
   "metadata": {},
   "source": [
    "### Find Info for understanding the columns like how many columns and what type of value in it"
   ]
  },
  {
   "cell_type": "code",
   "execution_count": 49,
   "id": "c1e63ab9",
   "metadata": {},
   "outputs": [
    {
     "name": "stdout",
     "output_type": "stream",
     "text": [
      "<class 'pandas.core.frame.DataFrame'>\n",
      "RangeIndex: 147 entries, 0 to 146\n",
      "Data columns (total 9 columns):\n",
      " #   Column  Non-Null Count  Dtype  \n",
      "---  ------  --------------  -----  \n",
      " 0   Id      147 non-null    int64  \n",
      " 1   target  147 non-null    float64\n",
      " 2   1       145 non-null    float64\n",
      " 3   2       145 non-null    float64\n",
      " 4   3       32 non-null     float64\n",
      " 5   4       31 non-null     float64\n",
      " 6   5       33 non-null     float64\n",
      " 7   6       37 non-null     float64\n",
      " 8   7       37 non-null     float64\n",
      "dtypes: float64(8), int64(1)\n",
      "memory usage: 10.5 KB\n"
     ]
    }
   ],
   "source": [
    "train_data.info()"
   ]
  },
  {
   "cell_type": "markdown",
   "id": "e1769718",
   "metadata": {},
   "source": [
    "### Describe for understanding data columns like min,max, mean, std ."
   ]
  },
  {
   "cell_type": "code",
   "execution_count": 50,
   "id": "eaa12f1c",
   "metadata": {},
   "outputs": [
    {
     "data": {
      "text/html": [
       "<div>\n",
       "<style scoped>\n",
       "    .dataframe tbody tr th:only-of-type {\n",
       "        vertical-align: middle;\n",
       "    }\n",
       "\n",
       "    .dataframe tbody tr th {\n",
       "        vertical-align: top;\n",
       "    }\n",
       "\n",
       "    .dataframe thead th {\n",
       "        text-align: right;\n",
       "    }\n",
       "</style>\n",
       "<table border=\"1\" class=\"dataframe\">\n",
       "  <thead>\n",
       "    <tr style=\"text-align: right;\">\n",
       "      <th></th>\n",
       "      <th>Id</th>\n",
       "      <th>target</th>\n",
       "      <th>1</th>\n",
       "      <th>2</th>\n",
       "      <th>3</th>\n",
       "      <th>4</th>\n",
       "      <th>5</th>\n",
       "      <th>6</th>\n",
       "      <th>7</th>\n",
       "    </tr>\n",
       "  </thead>\n",
       "  <tbody>\n",
       "    <tr>\n",
       "      <th>count</th>\n",
       "      <td>147.000000</td>\n",
       "      <td>147.000000</td>\n",
       "      <td>145.000000</td>\n",
       "      <td>145.000000</td>\n",
       "      <td>32.000000</td>\n",
       "      <td>31.000000</td>\n",
       "      <td>33.000000</td>\n",
       "      <td>37.000000</td>\n",
       "      <td>37.000000</td>\n",
       "    </tr>\n",
       "    <tr>\n",
       "      <th>mean</th>\n",
       "      <td>101.401361</td>\n",
       "      <td>5.021633</td>\n",
       "      <td>4.972621</td>\n",
       "      <td>4.906552</td>\n",
       "      <td>4.665000</td>\n",
       "      <td>5.871613</td>\n",
       "      <td>8.678788</td>\n",
       "      <td>3.883784</td>\n",
       "      <td>3.957568</td>\n",
       "    </tr>\n",
       "    <tr>\n",
       "      <th>std</th>\n",
       "      <td>64.836640</td>\n",
       "      <td>2.122535</td>\n",
       "      <td>2.044076</td>\n",
       "      <td>2.001357</td>\n",
       "      <td>2.057429</td>\n",
       "      <td>2.555247</td>\n",
       "      <td>5.299119</td>\n",
       "      <td>1.615455</td>\n",
       "      <td>1.916953</td>\n",
       "    </tr>\n",
       "    <tr>\n",
       "      <th>min</th>\n",
       "      <td>0.000000</td>\n",
       "      <td>1.300000</td>\n",
       "      <td>0.900000</td>\n",
       "      <td>1.040000</td>\n",
       "      <td>2.040000</td>\n",
       "      <td>2.480000</td>\n",
       "      <td>2.880000</td>\n",
       "      <td>1.000000</td>\n",
       "      <td>1.600000</td>\n",
       "    </tr>\n",
       "    <tr>\n",
       "      <th>25%</th>\n",
       "      <td>41.500000</td>\n",
       "      <td>3.720000</td>\n",
       "      <td>3.500000</td>\n",
       "      <td>3.400000</td>\n",
       "      <td>3.325000</td>\n",
       "      <td>4.445000</td>\n",
       "      <td>5.840000</td>\n",
       "      <td>2.900000</td>\n",
       "      <td>2.900000</td>\n",
       "    </tr>\n",
       "    <tr>\n",
       "      <th>50%</th>\n",
       "      <td>102.000000</td>\n",
       "      <td>4.600000</td>\n",
       "      <td>4.800000</td>\n",
       "      <td>4.830000</td>\n",
       "      <td>4.150000</td>\n",
       "      <td>5.500000</td>\n",
       "      <td>7.300000</td>\n",
       "      <td>3.400000</td>\n",
       "      <td>3.500000</td>\n",
       "    </tr>\n",
       "    <tr>\n",
       "      <th>75%</th>\n",
       "      <td>158.500000</td>\n",
       "      <td>6.275000</td>\n",
       "      <td>6.450000</td>\n",
       "      <td>6.200000</td>\n",
       "      <td>5.970000</td>\n",
       "      <td>6.400000</td>\n",
       "      <td>8.420000</td>\n",
       "      <td>4.800000</td>\n",
       "      <td>4.400000</td>\n",
       "    </tr>\n",
       "    <tr>\n",
       "      <th>max</th>\n",
       "      <td>214.000000</td>\n",
       "      <td>11.700000</td>\n",
       "      <td>10.900000</td>\n",
       "      <td>11.000000</td>\n",
       "      <td>10.660000</td>\n",
       "      <td>14.790000</td>\n",
       "      <td>27.120000</td>\n",
       "      <td>8.540000</td>\n",
       "      <td>10.370000</td>\n",
       "    </tr>\n",
       "  </tbody>\n",
       "</table>\n",
       "</div>"
      ],
      "text/plain": [
       "               Id      target           1           2          3          4  \\\n",
       "count  147.000000  147.000000  145.000000  145.000000  32.000000  31.000000   \n",
       "mean   101.401361    5.021633    4.972621    4.906552   4.665000   5.871613   \n",
       "std     64.836640    2.122535    2.044076    2.001357   2.057429   2.555247   \n",
       "min      0.000000    1.300000    0.900000    1.040000   2.040000   2.480000   \n",
       "25%     41.500000    3.720000    3.500000    3.400000   3.325000   4.445000   \n",
       "50%    102.000000    4.600000    4.800000    4.830000   4.150000   5.500000   \n",
       "75%    158.500000    6.275000    6.450000    6.200000   5.970000   6.400000   \n",
       "max    214.000000   11.700000   10.900000   11.000000  10.660000  14.790000   \n",
       "\n",
       "               5          6          7  \n",
       "count  33.000000  37.000000  37.000000  \n",
       "mean    8.678788   3.883784   3.957568  \n",
       "std     5.299119   1.615455   1.916953  \n",
       "min     2.880000   1.000000   1.600000  \n",
       "25%     5.840000   2.900000   2.900000  \n",
       "50%     7.300000   3.400000   3.500000  \n",
       "75%     8.420000   4.800000   4.400000  \n",
       "max    27.120000   8.540000  10.370000  "
      ]
     },
     "execution_count": 50,
     "metadata": {},
     "output_type": "execute_result"
    }
   ],
   "source": [
    "train_data.describe()"
   ]
  },
  {
   "cell_type": "markdown",
   "id": "514dbd11",
   "metadata": {},
   "source": [
    "### Find null values in data"
   ]
  },
  {
   "cell_type": "code",
   "execution_count": 51,
   "id": "dc0f7022",
   "metadata": {},
   "outputs": [
    {
     "data": {
      "text/html": [
       "<div>\n",
       "<style scoped>\n",
       "    .dataframe tbody tr th:only-of-type {\n",
       "        vertical-align: middle;\n",
       "    }\n",
       "\n",
       "    .dataframe tbody tr th {\n",
       "        vertical-align: top;\n",
       "    }\n",
       "\n",
       "    .dataframe thead th {\n",
       "        text-align: right;\n",
       "    }\n",
       "</style>\n",
       "<table border=\"1\" class=\"dataframe\">\n",
       "  <thead>\n",
       "    <tr style=\"text-align: right;\">\n",
       "      <th></th>\n",
       "      <th>Id</th>\n",
       "      <th>target</th>\n",
       "      <th>1</th>\n",
       "      <th>2</th>\n",
       "      <th>3</th>\n",
       "      <th>4</th>\n",
       "      <th>5</th>\n",
       "      <th>6</th>\n",
       "      <th>7</th>\n",
       "    </tr>\n",
       "  </thead>\n",
       "  <tbody>\n",
       "    <tr>\n",
       "      <th>0</th>\n",
       "      <td>False</td>\n",
       "      <td>False</td>\n",
       "      <td>False</td>\n",
       "      <td>False</td>\n",
       "      <td>True</td>\n",
       "      <td>True</td>\n",
       "      <td>True</td>\n",
       "      <td>True</td>\n",
       "      <td>True</td>\n",
       "    </tr>\n",
       "    <tr>\n",
       "      <th>1</th>\n",
       "      <td>False</td>\n",
       "      <td>False</td>\n",
       "      <td>False</td>\n",
       "      <td>False</td>\n",
       "      <td>True</td>\n",
       "      <td>True</td>\n",
       "      <td>True</td>\n",
       "      <td>True</td>\n",
       "      <td>True</td>\n",
       "    </tr>\n",
       "    <tr>\n",
       "      <th>2</th>\n",
       "      <td>False</td>\n",
       "      <td>False</td>\n",
       "      <td>False</td>\n",
       "      <td>False</td>\n",
       "      <td>True</td>\n",
       "      <td>True</td>\n",
       "      <td>True</td>\n",
       "      <td>True</td>\n",
       "      <td>True</td>\n",
       "    </tr>\n",
       "    <tr>\n",
       "      <th>3</th>\n",
       "      <td>False</td>\n",
       "      <td>False</td>\n",
       "      <td>False</td>\n",
       "      <td>False</td>\n",
       "      <td>True</td>\n",
       "      <td>True</td>\n",
       "      <td>True</td>\n",
       "      <td>True</td>\n",
       "      <td>True</td>\n",
       "    </tr>\n",
       "    <tr>\n",
       "      <th>4</th>\n",
       "      <td>False</td>\n",
       "      <td>False</td>\n",
       "      <td>False</td>\n",
       "      <td>False</td>\n",
       "      <td>True</td>\n",
       "      <td>True</td>\n",
       "      <td>True</td>\n",
       "      <td>True</td>\n",
       "      <td>True</td>\n",
       "    </tr>\n",
       "    <tr>\n",
       "      <th>...</th>\n",
       "      <td>...</td>\n",
       "      <td>...</td>\n",
       "      <td>...</td>\n",
       "      <td>...</td>\n",
       "      <td>...</td>\n",
       "      <td>...</td>\n",
       "      <td>...</td>\n",
       "      <td>...</td>\n",
       "      <td>...</td>\n",
       "    </tr>\n",
       "    <tr>\n",
       "      <th>142</th>\n",
       "      <td>False</td>\n",
       "      <td>False</td>\n",
       "      <td>False</td>\n",
       "      <td>False</td>\n",
       "      <td>True</td>\n",
       "      <td>True</td>\n",
       "      <td>True</td>\n",
       "      <td>True</td>\n",
       "      <td>True</td>\n",
       "    </tr>\n",
       "    <tr>\n",
       "      <th>143</th>\n",
       "      <td>False</td>\n",
       "      <td>False</td>\n",
       "      <td>False</td>\n",
       "      <td>False</td>\n",
       "      <td>True</td>\n",
       "      <td>True</td>\n",
       "      <td>True</td>\n",
       "      <td>True</td>\n",
       "      <td>True</td>\n",
       "    </tr>\n",
       "    <tr>\n",
       "      <th>144</th>\n",
       "      <td>False</td>\n",
       "      <td>False</td>\n",
       "      <td>False</td>\n",
       "      <td>False</td>\n",
       "      <td>True</td>\n",
       "      <td>True</td>\n",
       "      <td>True</td>\n",
       "      <td>True</td>\n",
       "      <td>True</td>\n",
       "    </tr>\n",
       "    <tr>\n",
       "      <th>145</th>\n",
       "      <td>False</td>\n",
       "      <td>False</td>\n",
       "      <td>False</td>\n",
       "      <td>False</td>\n",
       "      <td>True</td>\n",
       "      <td>True</td>\n",
       "      <td>True</td>\n",
       "      <td>True</td>\n",
       "      <td>True</td>\n",
       "    </tr>\n",
       "    <tr>\n",
       "      <th>146</th>\n",
       "      <td>False</td>\n",
       "      <td>False</td>\n",
       "      <td>False</td>\n",
       "      <td>False</td>\n",
       "      <td>True</td>\n",
       "      <td>True</td>\n",
       "      <td>True</td>\n",
       "      <td>True</td>\n",
       "      <td>True</td>\n",
       "    </tr>\n",
       "  </tbody>\n",
       "</table>\n",
       "<p>147 rows × 9 columns</p>\n",
       "</div>"
      ],
      "text/plain": [
       "        Id  target      1      2     3     4     5     6     7\n",
       "0    False   False  False  False  True  True  True  True  True\n",
       "1    False   False  False  False  True  True  True  True  True\n",
       "2    False   False  False  False  True  True  True  True  True\n",
       "3    False   False  False  False  True  True  True  True  True\n",
       "4    False   False  False  False  True  True  True  True  True\n",
       "..     ...     ...    ...    ...   ...   ...   ...   ...   ...\n",
       "142  False   False  False  False  True  True  True  True  True\n",
       "143  False   False  False  False  True  True  True  True  True\n",
       "144  False   False  False  False  True  True  True  True  True\n",
       "145  False   False  False  False  True  True  True  True  True\n",
       "146  False   False  False  False  True  True  True  True  True\n",
       "\n",
       "[147 rows x 9 columns]"
      ]
     },
     "execution_count": 51,
     "metadata": {},
     "output_type": "execute_result"
    }
   ],
   "source": [
    "train_data.isnull()"
   ]
  },
  {
   "cell_type": "markdown",
   "id": "eabab155",
   "metadata": {},
   "source": [
    "### Create heatmap for understanding the correlation in different columns"
   ]
  },
  {
   "cell_type": "code",
   "execution_count": 10,
   "id": "f7f94ace",
   "metadata": {},
   "outputs": [
    {
     "data": {
      "image/png": "[encoded data removed]",
      "text/plain": [
       "<Figure size 1000x600 with 2 Axes>"
      ]
     },
     "metadata": {},
     "output_type": "display_data"
    }
   ],
   "source": [
    "plt.figure(figsize= (10,6))\n",
    "sns.heatmap(train_data.corr(),center=0, annot=True)\n",
    "plt.show()"
   ]
  },
  {
   "cell_type": "markdown",
   "id": "d40ebd62",
   "metadata": {},
   "source": [
    "### Count the data how much value in particular columns"
   ]
  },
  {
   "cell_type": "code",
   "execution_count": 13,
   "id": "a619ba81",
   "metadata": {},
   "outputs": [
    {
     "data": {
      "text/plain": [
       "Id        147\n",
       "target    147\n",
       "1         145\n",
       "2         145\n",
       "3          32\n",
       "4          31\n",
       "5          33\n",
       "6          37\n",
       "7          37\n",
       "dtype: int64"
      ]
     },
     "execution_count": 13,
     "metadata": {},
     "output_type": "execute_result"
    }
   ],
   "source": [
    "train_data.count()"
   ]
  },
  {
   "cell_type": "markdown",
   "id": "871da0dc",
   "metadata": {},
   "source": [
    "### Drop unimportant features because those columns have so much null values( Approx 50 to 60%)"
   ]
  },
  {
   "cell_type": "code",
   "execution_count": 3,
   "id": "fb9cf636",
   "metadata": {},
   "outputs": [],
   "source": [
    "train_data = train_data.drop(['3','4','5','6','7','Id'],axis=1)"
   ]
  },
  {
   "cell_type": "markdown",
   "id": "45ca7f3d",
   "metadata": {},
   "source": [
    "### Drop rows beacause it has null values and create a new dataframe with three columns"
   ]
  },
  {
   "cell_type": "code",
   "execution_count": 4,
   "id": "4309c2fa",
   "metadata": {},
   "outputs": [
    {
     "data": {
      "text/html": [
       "<div>\n",
       "<style scoped>\n",
       "    .dataframe tbody tr th:only-of-type {\n",
       "        vertical-align: middle;\n",
       "    }\n",
       "\n",
       "    .dataframe tbody tr th {\n",
       "        vertical-align: top;\n",
       "    }\n",
       "\n",
       "    .dataframe thead th {\n",
       "        text-align: right;\n",
       "    }\n",
       "</style>\n",
       "<table border=\"1\" class=\"dataframe\">\n",
       "  <thead>\n",
       "    <tr style=\"text-align: right;\">\n",
       "      <th></th>\n",
       "      <th>target</th>\n",
       "      <th>1</th>\n",
       "      <th>2</th>\n",
       "    </tr>\n",
       "  </thead>\n",
       "  <tbody>\n",
       "    <tr>\n",
       "      <th>0</th>\n",
       "      <td>5.85</td>\n",
       "      <td>4.80</td>\n",
       "      <td>5.85</td>\n",
       "    </tr>\n",
       "    <tr>\n",
       "      <th>1</th>\n",
       "      <td>4.28</td>\n",
       "      <td>5.88</td>\n",
       "      <td>6.84</td>\n",
       "    </tr>\n",
       "    <tr>\n",
       "      <th>2</th>\n",
       "      <td>3.97</td>\n",
       "      <td>3.20</td>\n",
       "      <td>2.70</td>\n",
       "    </tr>\n",
       "    <tr>\n",
       "      <th>3</th>\n",
       "      <td>5.95</td>\n",
       "      <td>7.70</td>\n",
       "      <td>7.06</td>\n",
       "    </tr>\n",
       "    <tr>\n",
       "      <th>4</th>\n",
       "      <td>4.70</td>\n",
       "      <td>5.50</td>\n",
       "      <td>5.30</td>\n",
       "    </tr>\n",
       "  </tbody>\n",
       "</table>\n",
       "</div>"
      ],
      "text/plain": [
       "   target     1     2\n",
       "0    5.85  4.80  5.85\n",
       "1    4.28  5.88  6.84\n",
       "2    3.97  3.20  2.70\n",
       "3    5.95  7.70  7.06\n",
       "4    4.70  5.50  5.30"
      ]
     },
     "execution_count": 4,
     "metadata": {},
     "output_type": "execute_result"
    }
   ],
   "source": [
    "train_data=train_data.dropna()\n",
    "train_data.head()"
   ]
  },
  {
   "cell_type": "code",
   "execution_count": 54,
   "id": "79e2ce61",
   "metadata": {},
   "outputs": [
    {
     "name": "stdout",
     "output_type": "stream",
     "text": [
      "<class 'pandas.core.frame.DataFrame'>\n",
      "Int64Index: 144 entries, 0 to 146\n",
      "Data columns (total 3 columns):\n",
      " #   Column  Non-Null Count  Dtype  \n",
      "---  ------  --------------  -----  \n",
      " 0   target  144 non-null    float64\n",
      " 1   1       144 non-null    float64\n",
      " 2   2       144 non-null    float64\n",
      "dtypes: float64(3)\n",
      "memory usage: 4.5 KB\n"
     ]
    }
   ],
   "source": [
    "train_data.info()"
   ]
  },
  {
   "cell_type": "code",
   "execution_count": 7,
   "id": "7515a5c1",
   "metadata": {},
   "outputs": [],
   "source": [
    "Y= train_data['target']\n",
    "X= train_data.drop(['target'],axis=1)"
   ]
  },
  {
   "cell_type": "markdown",
   "id": "c8b7f2e1",
   "metadata": {},
   "source": [
    "### Use scaling method to convert value in one format"
   ]
  },
  {
   "cell_type": "code",
   "execution_count": 8,
   "id": "1a52bae5",
   "metadata": {},
   "outputs": [],
   "source": [
    "sc= StandardScaler()\n",
    "train_data= pd.DataFrame(sc.fit_transform(X))"
   ]
  },
  {
   "cell_type": "code",
   "execution_count": 9,
   "id": "27028f59",
   "metadata": {},
   "outputs": [
    {
     "data": {
      "text/html": [
       "<div>\n",
       "<style scoped>\n",
       "    .dataframe tbody tr th:only-of-type {\n",
       "        vertical-align: middle;\n",
       "    }\n",
       "\n",
       "    .dataframe tbody tr th {\n",
       "        vertical-align: top;\n",
       "    }\n",
       "\n",
       "    .dataframe thead th {\n",
       "        text-align: right;\n",
       "    }\n",
       "</style>\n",
       "<table border=\"1\" class=\"dataframe\">\n",
       "  <thead>\n",
       "    <tr style=\"text-align: right;\">\n",
       "      <th></th>\n",
       "      <th>0</th>\n",
       "      <th>1</th>\n",
       "    </tr>\n",
       "  </thead>\n",
       "  <tbody>\n",
       "    <tr>\n",
       "      <th>0</th>\n",
       "      <td>-0.085038</td>\n",
       "      <td>0.464653</td>\n",
       "    </tr>\n",
       "    <tr>\n",
       "      <th>1</th>\n",
       "      <td>0.443331</td>\n",
       "      <td>0.963267</td>\n",
       "    </tr>\n",
       "    <tr>\n",
       "      <th>2</th>\n",
       "      <td>-0.867807</td>\n",
       "      <td>-1.121847</td>\n",
       "    </tr>\n",
       "    <tr>\n",
       "      <th>3</th>\n",
       "      <td>1.333732</td>\n",
       "      <td>1.074070</td>\n",
       "    </tr>\n",
       "    <tr>\n",
       "      <th>4</th>\n",
       "      <td>0.257424</td>\n",
       "      <td>0.187645</td>\n",
       "    </tr>\n",
       "  </tbody>\n",
       "</table>\n",
       "</div>"
      ],
      "text/plain": [
       "          0         1\n",
       "0 -0.085038  0.464653\n",
       "1  0.443331  0.963267\n",
       "2 -0.867807 -1.121847\n",
       "3  1.333732  1.074070\n",
       "4  0.257424  0.187645"
      ]
     },
     "execution_count": 9,
     "metadata": {},
     "output_type": "execute_result"
    }
   ],
   "source": [
    "train_data.head()"
   ]
  },
  {
   "cell_type": "markdown",
   "id": "7e7509a3",
   "metadata": {},
   "source": [
    "### Split the data into trainand test dataset\n",
    "\n",
    "  It is extremely important to split the data into train and test sets. Train set is used to train the model and Test set is used to test the performance of the model. \n",
    "  \n",
    "  Problems encountered if train test split not performed:\n",
    "\n",
    "It does not make sense to talk about the performance of the model by testing it on same data. The model learns the data pretty well and when tested on same data will produce the best score.\n",
    "The model becomes very specific to the training data, so far as they even get trained on the ocassional erroneous labels present in the training data. This results in Overfitting and the model might not work well outside the training data.\n",
    "Therefore it is advised to keep a certian portion of the data aside (test set) untouched and test our model on this data to evaluate the true performance of the model.\n",
    "\n",
    "X_train - all the predictors\n",
    "\n",
    "Y_train - target variable \n",
    "\n",
    "X_test - all the predictors\n",
    "\n",
    "Y_test - target variable \n",
    "\n",
    "\n",
    "Let's define X and Y before splitting the data"
   ]
  },
  {
   "cell_type": "code",
   "execution_count": 10,
   "id": "b46b1811",
   "metadata": {},
   "outputs": [],
   "source": [
    "X_train, X_test, Y_train, Y_test= train_test_split(train_data,Y, test_size=0.3, random_state=0)"
   ]
  },
  {
   "cell_type": "code",
   "execution_count": 11,
   "id": "a683c578",
   "metadata": {},
   "outputs": [
    {
     "name": "stdout",
     "output_type": "stream",
     "text": [
      "X_train:  (100, 2)\n",
      "X_test:  (44, 2)\n",
      "Y_train:  (100,)\n",
      "Y_test:  (44,)\n"
     ]
    }
   ],
   "source": [
    "print('X_train: ',X_train.shape)\n",
    "print('X_test: ',X_test.shape)\n",
    "print('Y_train: ',Y_train.shape)\n",
    "print('Y_test: ',Y_test.shape)"
   ]
  },
  {
   "cell_type": "markdown",
   "id": "8d01e8b9",
   "metadata": {},
   "source": [
    "### Use first algorithm it is linear regression for create a model"
   ]
  },
  {
   "cell_type": "code",
   "execution_count": 12,
   "id": "9bad6032",
   "metadata": {},
   "outputs": [
    {
     "data": {
      "text/plain": [
       "LinearRegression()"
      ]
     },
     "execution_count": 12,
     "metadata": {},
     "output_type": "execute_result"
    }
   ],
   "source": [
    "re= LinearRegression()\n",
    "re.fit(X_train,Y_train)"
   ]
  },
  {
   "cell_type": "code",
   "execution_count": 15,
   "id": "fe2c7514",
   "metadata": {},
   "outputs": [],
   "source": [
    "Y_pred= re.predict(X_test)"
   ]
  },
  {
   "cell_type": "code",
   "execution_count": 16,
   "id": "2948b30e",
   "metadata": {},
   "outputs": [],
   "source": [
    "from sklearn import metrics"
   ]
  },
  {
   "cell_type": "markdown",
   "id": "cc2ca0b3",
   "metadata": {},
   "source": [
    "### Find MSE and MAE ,RMSE that help to underastand how much currectly predict the data."
   ]
  },
  {
   "cell_type": "code",
   "execution_count": 17,
   "id": "bf5d8cb3",
   "metadata": {},
   "outputs": [
    {
     "name": "stdout",
     "output_type": "stream",
     "text": [
      "MSE 1.908080391348191\n",
      "MAE 0.9991164787350244\n"
     ]
    }
   ],
   "source": [
    "print(\"MSE\",metrics.mean_squared_error(Y_test,Y_pred))\n",
    "\n",
    "print(\"MAE\", metrics.mean_absolute_error(Y_test,Y_pred))"
   ]
  },
  {
   "cell_type": "code",
   "execution_count": 18,
   "id": "bbaac7d8",
   "metadata": {},
   "outputs": [
    {
     "data": {
      "text/plain": [
       "1.3813328314885558"
      ]
     },
     "execution_count": 18,
     "metadata": {},
     "output_type": "execute_result"
    }
   ],
   "source": [
    "rmse = np.sqrt(metrics.mean_squared_error(Y_test,Y_pred))\n",
    "rmse"
   ]
  },
  {
   "cell_type": "markdown",
   "id": "3667554d",
   "metadata": {},
   "source": [
    "### Second algorithm that is DecisionTreeRegressor and create a model"
   ]
  },
  {
   "cell_type": "code",
   "execution_count": 19,
   "id": "5ea2fac0",
   "metadata": {},
   "outputs": [
    {
     "data": {
      "text/plain": [
       "DecisionTreeRegressor()"
      ]
     },
     "execution_count": 19,
     "metadata": {},
     "output_type": "execute_result"
    }
   ],
   "source": [
    "Reg = DecisionTreeRegressor()\n",
    "Reg.fit(X_train,Y_train)"
   ]
  },
  {
   "cell_type": "code",
   "execution_count": 20,
   "id": "21fbb0a5",
   "metadata": {},
   "outputs": [
    {
     "data": {
      "text/plain": [
       "array([3.74, 2.  , 3.74, 5.65, 5.85, 7.9 , 1.8 , 4.7 , 4.2 , 4.6 , 3.12,\n",
       "       4.42, 1.8 , 5.6 , 8.  , 5.65, 7.4 , 3.96, 5.7 , 4.6 , 3.17, 3.74,\n",
       "       2.3 , 9.2 , 5.7 , 6.4 , 4.6 , 6.8 , 5.4 , 4.7 , 5.75, 3.35, 7.4 ,\n",
       "       3.3 , 9.2 , 5.9 , 8.2 , 4.42, 5.7 , 3.17, 5.9 , 7.4 , 4.2 , 4.55])"
      ]
     },
     "execution_count": 20,
     "metadata": {},
     "output_type": "execute_result"
    }
   ],
   "source": [
    "Y_pred1= Reg.predict(X_test)\n",
    "Y_pred1"
   ]
  },
  {
   "cell_type": "code",
   "execution_count": 21,
   "id": "0090dc41",
   "metadata": {},
   "outputs": [
    {
     "name": "stdout",
     "output_type": "stream",
     "text": [
      "MAE1 1.281590909090909\n",
      "MSE 2.729015909090909\n"
     ]
    }
   ],
   "source": [
    "print(\"MAE1\",metrics.mean_absolute_error(Y_test,Y_pred1))\n",
    "\n",
    "print(\"MSE\",metrics.mean_squared_error(Y_test,Y_pred1))"
   ]
  },
  {
   "cell_type": "code",
   "execution_count": 22,
   "id": "cf984bb1",
   "metadata": {},
   "outputs": [
    {
     "name": "stdout",
     "output_type": "stream",
     "text": [
      "1.6519733378874215\n"
     ]
    }
   ],
   "source": [
    "rmse1= np.sqrt(metrics.mean_squared_error(Y_test,Y_pred1))\n",
    "print(rmse1)"
   ]
  },
  {
   "cell_type": "markdown",
   "id": "df8becce",
   "metadata": {},
   "source": [
    "### Third algorithm RandomForestRegressor for create a model"
   ]
  },
  {
   "cell_type": "code",
   "execution_count": 64,
   "id": "a71b12b4",
   "metadata": {},
   "outputs": [
    {
     "data": {
      "text/plain": [
       "RandomForestRegressor(n_estimators=1000, random_state=42)"
      ]
     },
     "execution_count": 64,
     "metadata": {},
     "output_type": "execute_result"
    }
   ],
   "source": [
    "reg= RandomForestRegressor(n_estimators=1000, random_state=42)\n",
    "\n",
    "reg.fit(X_train, Y_train)"
   ]
  },
  {
   "cell_type": "code",
   "execution_count": 24,
   "id": "1a938970",
   "metadata": {},
   "outputs": [
    {
     "data": {
      "text/plain": [
       "array([3.69641, 2.35972, 4.04768, 6.0223 , 5.4004 , 8.7563 , 1.99432,\n",
       "       5.22535, 4.74895, 4.75757, 4.15568, 3.77217, 2.06114, 4.00642,\n",
       "       7.13588, 5.68314, 6.1878 , 3.1258 , 4.786  , 3.95269, 3.21925,\n",
       "       3.7377 , 2.74973, 7.5968 , 4.40332, 6.94121, 5.06289, 7.24345,\n",
       "       6.49805, 4.75987, 5.37251, 3.3139 , 6.49554, 3.41049, 8.3107 ,\n",
       "       5.88345, 5.48343, 3.67446, 4.57031, 3.88838, 5.29449, 7.11214,\n",
       "       4.71175, 5.64416])"
      ]
     },
     "execution_count": 24,
     "metadata": {},
     "output_type": "execute_result"
    }
   ],
   "source": [
    "Y_pred2 = reg.predict(X_test)\n",
    "Y_pred2"
   ]
  },
  {
   "cell_type": "code",
   "execution_count": 25,
   "id": "f427cf2a",
   "metadata": {},
   "outputs": [
    {
     "name": "stdout",
     "output_type": "stream",
     "text": [
      "1.5083133345170154\n"
     ]
    }
   ],
   "source": [
    "rmse2= np.sqrt(metrics.mean_squared_error(Y_test,Y_pred2))\n",
    "print(rmse2)"
   ]
  },
  {
   "cell_type": "code",
   "execution_count": 26,
   "id": "85f999b1",
   "metadata": {},
   "outputs": [
    {
     "name": "stdout",
     "output_type": "stream",
     "text": [
      "MAE2 1.1259331818181826\n",
      "MSE2 2.275009115081838\n"
     ]
    }
   ],
   "source": [
    "print(\"MAE2\",metrics.mean_absolute_error(Y_test,Y_pred2))\n",
    "\n",
    "print(\"MSE2\",metrics.mean_squared_error(Y_test,Y_pred2))"
   ]
  },
  {
   "cell_type": "markdown",
   "id": "436beb43",
   "metadata": {},
   "source": [
    "### FInd accuracy for three model like Linear Regression, Decision Tree Regressor and Random Forest Regressor\n",
    "\n",
    "Ist Step: find error between Y_pred and Y_test\n",
    "\n",
    "IInd Step: find mape for every model\n",
    "\n",
    "IIIrd Step: Find accuracy for find which model gives much more closer value to actual value"
   ]
  },
  {
   "cell_type": "code",
   "execution_count": 27,
   "id": "9e2def2f",
   "metadata": {},
   "outputs": [
    {
     "data": {
      "text/plain": [
       "7      3.864581\n",
       "91     2.778615\n",
       "100    0.691662\n",
       "26     0.987069\n",
       "113    4.018449\n",
       "131    1.620100\n",
       "61     0.695663\n",
       "22     0.997870\n",
       "132    0.461905\n",
       "16     0.269920\n",
       "129    1.345180\n",
       "123    0.033403\n",
       "40     0.654918\n",
       "45     0.012537\n",
       "55     1.864446\n",
       "33     1.937481\n",
       "24     1.055904\n",
       "8      0.132185\n",
       "130    0.364389\n",
       "52     0.096559\n",
       "88     2.303701\n",
       "119    0.155582\n",
       "37     2.530782\n",
       "99     0.038741\n",
       "43     0.652951\n",
       "117    0.183214\n",
       "65     0.667670\n",
       "143    1.946564\n",
       "104    1.702090\n",
       "18     0.129546\n",
       "73     0.597297\n",
       "27     0.556716\n",
       "144    0.598830\n",
       "2      0.689670\n",
       "62     1.917637\n",
       "10     0.345693\n",
       "78     0.661918\n",
       "108    0.555688\n",
       "58     0.414527\n",
       "111    1.276197\n",
       "63     0.379653\n",
       "44     0.335252\n",
       "68     0.516840\n",
       "115    0.921531\n",
       "Name: target, dtype: float64"
      ]
     },
     "execution_count": 27,
     "metadata": {},
     "output_type": "execute_result"
    }
   ],
   "source": [
    "error1= abs(Y_pred-Y_test)\n",
    "error1"
   ]
  },
  {
   "cell_type": "code",
   "execution_count": 28,
   "id": "14a649f8",
   "metadata": {},
   "outputs": [
    {
     "data": {
      "text/plain": [
       "7      3.96\n",
       "91     2.25\n",
       "100    0.34\n",
       "26     1.45\n",
       "113    3.15\n",
       "Name: target, dtype: float64"
      ]
     },
     "execution_count": 28,
     "metadata": {},
     "output_type": "execute_result"
    }
   ],
   "source": [
    "error2= abs(Y_pred1-Y_test)\n",
    "error2.head()"
   ]
  },
  {
   "cell_type": "code",
   "execution_count": 29,
   "id": "adebf70a",
   "metadata": {},
   "outputs": [
    {
     "data": {
      "text/plain": [
       "7      4.00359\n",
       "91     1.89028\n",
       "100    0.64768\n",
       "26     1.07770\n",
       "113    3.59960\n",
       "Name: target, dtype: float64"
      ]
     },
     "execution_count": 29,
     "metadata": {},
     "output_type": "execute_result"
    }
   ],
   "source": [
    "error3= abs(Y_pred2-Y_test)\n",
    "error3.head()"
   ]
  },
  {
   "cell_type": "code",
   "execution_count": 30,
   "id": "3a5b6eed",
   "metadata": {},
   "outputs": [
    {
     "data": {
      "text/plain": [
       "7      51.994675\n",
       "91     44.477176\n",
       "100    19.049412\n",
       "26     15.178873\n",
       "113    39.995556\n",
       "Name: target, dtype: float64"
      ]
     },
     "execution_count": 30,
     "metadata": {},
     "output_type": "execute_result"
    }
   ],
   "source": [
    "mape1=100*(error1/Y_test)\n",
    "mape2=100*(error2/Y_test)\n",
    "mape3=100*(error3/Y_test)\n",
    "mape1.head() \n",
    "mape2.head()\n",
    "mape3.head()"
   ]
  },
  {
   "cell_type": "code",
   "execution_count": 31,
   "id": "ebda8da9",
   "metadata": {},
   "outputs": [
    {
     "data": {
      "text/plain": [
       "81.11187083865273"
      ]
     },
     "execution_count": 31,
     "metadata": {},
     "output_type": "execute_result"
    }
   ],
   "source": [
    "acc1= 100-np.mean(mape1)\n",
    "acc1"
   ]
  },
  {
   "cell_type": "code",
   "execution_count": 53,
   "id": "ea40d82b",
   "metadata": {},
   "outputs": [
    {
     "data": {
      "text/plain": [
       "76.24598324917807"
      ]
     },
     "execution_count": 53,
     "metadata": {},
     "output_type": "execute_result"
    }
   ],
   "source": [
    "acc2 =100-np.mean(mape2)\n",
    "acc2"
   ]
  },
  {
   "cell_type": "code",
   "execution_count": 32,
   "id": "5edb21ff",
   "metadata": {},
   "outputs": [
    {
     "data": {
      "text/plain": [
       "79.72731924964913"
      ]
     },
     "execution_count": 32,
     "metadata": {},
     "output_type": "execute_result"
    }
   ],
   "source": [
    "acc3 = 100-np.mean(mape3)\n",
    "acc3"
   ]
  },
  {
   "cell_type": "markdown",
   "id": "7b68140b",
   "metadata": {},
   "source": [
    "### Fourth algorithm that is Extra Tree Regressor"
   ]
  },
  {
   "cell_type": "code",
   "execution_count": 67,
   "id": "c275122e",
   "metadata": {},
   "outputs": [
    {
     "data": {
      "text/plain": [
       "ExtraTreesRegressor()"
      ]
     },
     "execution_count": 67,
     "metadata": {},
     "output_type": "execute_result"
    }
   ],
   "source": [
    "etr = ExtraTreesRegressor()\n",
    "etr.fit(X_train, Y_train)"
   ]
  },
  {
   "cell_type": "code",
   "execution_count": 34,
   "id": "6c1c7faa",
   "metadata": {},
   "outputs": [],
   "source": [
    "Y_Pred3= etr.predict(X_test)"
   ]
  },
  {
   "cell_type": "code",
   "execution_count": 35,
   "id": "90deaa00",
   "metadata": {},
   "outputs": [
    {
     "name": "stdout",
     "output_type": "stream",
     "text": [
      "1.6677760538159248\n"
     ]
    }
   ],
   "source": [
    "rmse3 = np.sqrt(metrics.mean_squared_error(Y_test,Y_Pred3))\n",
    "print(rmse3)"
   ]
  },
  {
   "cell_type": "code",
   "execution_count": 36,
   "id": "8b33cef8",
   "metadata": {},
   "outputs": [
    {
     "data": {
      "text/plain": [
       "7      4.0755\n",
       "91     2.2610\n",
       "100    0.6768\n",
       "26     1.1187\n",
       "113    3.5894\n",
       "Name: target, dtype: float64"
      ]
     },
     "execution_count": 36,
     "metadata": {},
     "output_type": "execute_result"
    }
   ],
   "source": [
    "error4= abs(Y_Pred3-Y_test)\n",
    "error4.head()"
   ]
  },
  {
   "cell_type": "code",
   "execution_count": 37,
   "id": "7155b404",
   "metadata": {},
   "outputs": [],
   "source": [
    "mape4=100*(error4/Y_test)"
   ]
  },
  {
   "cell_type": "code",
   "execution_count": 38,
   "id": "d35fd459",
   "metadata": {},
   "outputs": [
    {
     "data": {
      "text/plain": [
       "78.3903083485825"
      ]
     },
     "execution_count": 38,
     "metadata": {},
     "output_type": "execute_result"
    }
   ],
   "source": [
    "acc4= 100-np.mean(mape4)\n",
    "acc4"
   ]
  },
  {
   "cell_type": "code",
   "execution_count": 22,
   "id": "cf246b62",
   "metadata": {},
   "outputs": [],
   "source": [
    "from xgboost import XGBRegressor"
   ]
  },
  {
   "cell_type": "code",
   "execution_count": 23,
   "id": "cd18a754",
   "metadata": {},
   "outputs": [
    {
     "data": {
      "text/plain": [
       "XGBRegressor(base_score=None, booster=None, callbacks=None,\n",
       "             colsample_bylevel=None, colsample_bynode=None,\n",
       "             colsample_bytree=None, early_stopping_rounds=None,\n",
       "             enable_categorical=False, eval_metric=None, feature_types=None,\n",
       "             gamma=None, gpu_id=None, grow_policy=None, importance_type=None,\n",
       "             interaction_constraints=None, learning_rate=None, max_bin=None,\n",
       "             max_cat_threshold=None, max_cat_to_onehot=None,\n",
       "             max_delta_step=None, max_depth=None, max_leaves=None,\n",
       "             min_child_weight=None, missing=nan, monotone_constraints=None,\n",
       "             n_estimators=100, n_jobs=None, num_parallel_tree=None,\n",
       "             predictor=None, random_state=None, ...)"
      ]
     },
     "execution_count": 23,
     "metadata": {},
     "output_type": "execute_result"
    }
   ],
   "source": [
    "xgb_reg= XGBRegressor()\n",
    "xgb_reg.fit(X_train,Y_train)"
   ]
  },
  {
   "cell_type": "code",
   "execution_count": 41,
   "id": "bf9bf73c",
   "metadata": {},
   "outputs": [
    {
     "data": {
      "text/plain": [
       "array([3.1000638, 2.0202532, 3.934603 , 6.082461 , 5.741329 , 8.479428 ,\n",
       "       1.8919207, 4.911784 , 5.511828 , 5.0558987, 4.1293035, 3.5101824,\n",
       "       1.8399107, 4.4886084, 8.836549 , 5.6477222, 5.088474 , 4.360249 ,\n",
       "       5.0926237, 3.5746412, 3.3263586, 3.564568 , 2.02332  , 7.531992 ,\n",
       "       5.1158857, 7.4351707, 4.534392 , 7.6810503, 5.15817  , 4.7454615,\n",
       "       5.7502637, 4.002088 , 5.088474 , 3.2784328, 8.195635 , 6.4850106,\n",
       "       4.5512295, 3.809296 , 5.190139 , 3.9827178, 5.2583747, 7.6501703,\n",
       "       5.511828 , 6.91598  ], dtype=float32)"
      ]
     },
     "execution_count": 41,
     "metadata": {},
     "output_type": "execute_result"
    }
   ],
   "source": [
    "Y_pred5= xgb_reg.predict(X_test)\n",
    "Y_pred5"
   ]
  },
  {
   "cell_type": "code",
   "execution_count": 42,
   "id": "5e7c3eb2",
   "metadata": {},
   "outputs": [
    {
     "name": "stdout",
     "output_type": "stream",
     "text": [
      "1.8596709744010336\n"
     ]
    }
   ],
   "source": [
    "rmse4= np.sqrt(metrics.mean_squared_error(Y_test,Y_pred5))\n",
    "print(rmse4)"
   ]
  },
  {
   "cell_type": "code",
   "execution_count": 43,
   "id": "15f81bfe",
   "metadata": {},
   "outputs": [],
   "source": [
    "error5= abs(Y_pred5-Y_test)\n",
    "mape5=100*(error5/Y_test)"
   ]
  },
  {
   "cell_type": "code",
   "execution_count": 44,
   "id": "d09a8a50",
   "metadata": {},
   "outputs": [
    {
     "data": {
      "text/plain": [
       "74.30866871281303"
      ]
     },
     "execution_count": 44,
     "metadata": {},
     "output_type": "execute_result"
    }
   ],
   "source": [
    "acc5= 100-np.mean(mape5)\n",
    "acc5"
   ]
  },
  {
   "cell_type": "code",
   "execution_count": 45,
   "id": "e516f126",
   "metadata": {},
   "outputs": [
    {
     "name": "stdout",
     "output_type": "stream",
     "text": [
      "MSE3 3.45837613302969\n"
     ]
    }
   ],
   "source": [
    "print(\"MSE3\",metrics.mean_squared_error(Y_test,Y_pred5))"
   ]
  },
  {
   "cell_type": "markdown",
   "id": "261b25ad",
   "metadata": {},
   "source": [
    "### Create new data frame for showing the visualization on accuracy"
   ]
  },
  {
   "cell_type": "code",
   "execution_count": 54,
   "id": "3875a89a",
   "metadata": {},
   "outputs": [
    {
     "data": {
      "text/html": [
       "<div>\n",
       "<style scoped>\n",
       "    .dataframe tbody tr th:only-of-type {\n",
       "        vertical-align: middle;\n",
       "    }\n",
       "\n",
       "    .dataframe tbody tr th {\n",
       "        vertical-align: top;\n",
       "    }\n",
       "\n",
       "    .dataframe thead th {\n",
       "        text-align: right;\n",
       "    }\n",
       "</style>\n",
       "<table border=\"1\" class=\"dataframe\">\n",
       "  <thead>\n",
       "    <tr style=\"text-align: right;\">\n",
       "      <th></th>\n",
       "      <th>Algorithm</th>\n",
       "      <th>Accuracy</th>\n",
       "    </tr>\n",
       "  </thead>\n",
       "  <tbody>\n",
       "    <tr>\n",
       "      <th>0</th>\n",
       "      <td>LinearRegression</td>\n",
       "      <td>81.111871</td>\n",
       "    </tr>\n",
       "    <tr>\n",
       "      <th>1</th>\n",
       "      <td>DecisionTreeRegressor</td>\n",
       "      <td>76.245983</td>\n",
       "    </tr>\n",
       "    <tr>\n",
       "      <th>2</th>\n",
       "      <td>RandomForestRegressor</td>\n",
       "      <td>79.727319</td>\n",
       "    </tr>\n",
       "    <tr>\n",
       "      <th>3</th>\n",
       "      <td>ExtraTreeRegressor</td>\n",
       "      <td>78.390308</td>\n",
       "    </tr>\n",
       "    <tr>\n",
       "      <th>4</th>\n",
       "      <td>XGBRegressor</td>\n",
       "      <td>74.308669</td>\n",
       "    </tr>\n",
       "  </tbody>\n",
       "</table>\n",
       "</div>"
      ],
      "text/plain": [
       "               Algorithm   Accuracy\n",
       "0       LinearRegression  81.111871\n",
       "1  DecisionTreeRegressor  76.245983\n",
       "2  RandomForestRegressor  79.727319\n",
       "3     ExtraTreeRegressor  78.390308\n",
       "4           XGBRegressor  74.308669"
      ]
     },
     "execution_count": 54,
     "metadata": {},
     "output_type": "execute_result"
    }
   ],
   "source": [
    "data=[[\"LinearRegression\",acc1],[\"DecisionTreeRegressor\",acc2],[\"RandomForestRegressor\",acc3],[\"ExtraTreeRegressor\",acc4], [\"XGBRegressor\",acc5]]\n",
    "df= pd.DataFrame(data, columns=['Algorithm','Accuracy'])\n",
    "df"
   ]
  },
  {
   "cell_type": "code",
   "execution_count": 56,
   "id": "259dea26",
   "metadata": {},
   "outputs": [
    {
     "data": {
      "image/png": "[encoded data removed]",
      "text/plain": [
       "<Figure size 1000x600 with 1 Axes>"
      ]
     },
     "metadata": {},
     "output_type": "display_data"
    }
   ],
   "source": [
    "fig = plt.figure(figsize=(10,6))\n",
    "\n",
    "plt.bar(df.Algorithm,df.Accuracy, width=0.3)\n",
    "\n",
    "plt.title(\"Accuracy of different algorithm \")\n",
    "plt.show()"
   ]
  },
  {
   "cell_type": "code",
   "execution_count": 4,
   "id": "4ef6820d",
   "metadata": {},
   "outputs": [
    {
     "name": "stdout",
     "output_type": "stream",
     "text": [
      "<class 'pandas.core.frame.DataFrame'>\n",
      "RangeIndex: 63 entries, 0 to 62\n",
      "Data columns (total 8 columns):\n",
      " #   Column  Non-Null Count  Dtype  \n",
      "---  ------  --------------  -----  \n",
      " 0   Id      63 non-null     int64  \n",
      " 1   1       63 non-null     float64\n",
      " 2   2       63 non-null     float64\n",
      " 3   3       15 non-null     float64\n",
      " 4   4       15 non-null     float64\n",
      " 5   5       16 non-null     float64\n",
      " 6   6       14 non-null     float64\n",
      " 7   7       14 non-null     float64\n",
      "dtypes: float64(7), int64(1)\n",
      "memory usage: 4.1 KB\n"
     ]
    }
   ],
   "source": [
    "test_data.info()"
   ]
  },
  {
   "cell_type": "code",
   "execution_count": 6,
   "id": "7d344e8d",
   "metadata": {},
   "outputs": [
    {
     "data": {
      "text/html": [
       "<div>\n",
       "<style scoped>\n",
       "    .dataframe tbody tr th:only-of-type {\n",
       "        vertical-align: middle;\n",
       "    }\n",
       "\n",
       "    .dataframe tbody tr th {\n",
       "        vertical-align: top;\n",
       "    }\n",
       "\n",
       "    .dataframe thead th {\n",
       "        text-align: right;\n",
       "    }\n",
       "</style>\n",
       "<table border=\"1\" class=\"dataframe\">\n",
       "  <thead>\n",
       "    <tr style=\"text-align: right;\">\n",
       "      <th></th>\n",
       "      <th>1</th>\n",
       "      <th>2</th>\n",
       "    </tr>\n",
       "  </thead>\n",
       "  <tbody>\n",
       "    <tr>\n",
       "      <th>0</th>\n",
       "      <td>6.80</td>\n",
       "      <td>5.40</td>\n",
       "    </tr>\n",
       "    <tr>\n",
       "      <th>1</th>\n",
       "      <td>4.71</td>\n",
       "      <td>4.20</td>\n",
       "    </tr>\n",
       "    <tr>\n",
       "      <th>2</th>\n",
       "      <td>2.10</td>\n",
       "      <td>3.40</td>\n",
       "    </tr>\n",
       "    <tr>\n",
       "      <th>3</th>\n",
       "      <td>5.35</td>\n",
       "      <td>5.85</td>\n",
       "    </tr>\n",
       "    <tr>\n",
       "      <th>4</th>\n",
       "      <td>4.80</td>\n",
       "      <td>5.30</td>\n",
       "    </tr>\n",
       "  </tbody>\n",
       "</table>\n",
       "</div>"
      ],
      "text/plain": [
       "      1     2\n",
       "0  6.80  5.40\n",
       "1  4.71  4.20\n",
       "2  2.10  3.40\n",
       "3  5.35  5.85\n",
       "4  4.80  5.30"
      ]
     },
     "execution_count": 6,
     "metadata": {},
     "output_type": "execute_result"
    }
   ],
   "source": [
    "test_data= test_data.drop(['Id','3','4','5','6','7'],axis=1)\n",
    "test_data.head()"
   ]
  },
  {
   "cell_type": "code",
   "execution_count": 14,
   "id": "f5987825",
   "metadata": {},
   "outputs": [],
   "source": [
    "Scaler= StandardScaler()\n",
    "test_data= pd.DataFrame(Scaler.fit_transform(test_data), columns= test_data.columns)"
   ]
  },
  {
   "cell_type": "code",
   "execution_count": 62,
   "id": "bfdf33cc",
   "metadata": {},
   "outputs": [
    {
     "data": {
      "text/plain": [
       "array([3.601099, 6.989933, 6.910082], dtype=float32)"
      ]
     },
     "execution_count": 62,
     "metadata": {},
     "output_type": "execute_result"
    }
   ],
   "source": [
    "xgb_reg.fit(train_data,Y)\n",
    "xgb_reg.predict(X_train)[:3]"
   ]
  },
  {
   "cell_type": "code",
   "execution_count": 65,
   "id": "3b336308",
   "metadata": {},
   "outputs": [
    {
     "data": {
      "text/plain": [
       "array([3.59853, 7.14851, 6.64207])"
      ]
     },
     "execution_count": 65,
     "metadata": {},
     "output_type": "execute_result"
    }
   ],
   "source": [
    "reg.fit(train_data,Y)\n",
    "reg.predict(X_train)[:3]"
   ]
  },
  {
   "cell_type": "code",
   "execution_count": 68,
   "id": "38c5907c",
   "metadata": {},
   "outputs": [
    {
     "data": {
      "text/plain": [
       "array([3.6 , 6.98, 6.9 ])"
      ]
     },
     "execution_count": 68,
     "metadata": {},
     "output_type": "execute_result"
    }
   ],
   "source": [
    "etr.fit(train_data,Y)\n",
    "etr.predict(X_train)[:3]"
   ]
  },
  {
   "cell_type": "markdown",
   "id": "3516d6ca",
   "metadata": {},
   "source": [
    "### Plot the graph for Actual vs Predicted Values "
   ]
  },
  {
   "cell_type": "code",
   "execution_count": 13,
   "id": "05b6b53b",
   "metadata": {},
   "outputs": [
    {
     "data": {
      "text/plain": [
       "Text(0.5, 1.0, 'Regression Plot for Actual vs Predicted Values')"
      ]
     },
     "execution_count": 13,
     "metadata": {},
     "output_type": "execute_result"
    },
    {
     "data": {
      "image/png": "[encoded data removed]",
      "text/plain": [
       "<Figure size 640x480 with 1 Axes>"
      ]
     },
     "metadata": {},
     "output_type": "display_data"
    }
   ],
   "source": [
    "g = sns.regplot(x=re.predict(X_test), y=Y_test, fit_reg=True)\n",
    "g.set(xlabel='Predicted House Prices($)', ylabel='Actual House Prices($)', title='Model Predictions')\n",
    "plt.title('Regression Plot for Actual vs Predicted Values')"
   ]
  },
  {
   "cell_type": "code",
   "execution_count": null,
   "id": "63ca1ffe",
   "metadata": {},
   "outputs": [],
   "source": []
  },
  {
   "cell_type": "code",
   "execution_count": null,
   "id": "6f84ebec",
   "metadata": {},
   "outputs": [],
   "source": []
  },
  {
   "cell_type": "code",
   "execution_count": null,
   "id": "d7d65868",
   "metadata": {},
   "outputs": [],
   "source": []
  }
 ],
 "metadata": {
  "kernelspec": {
   "display_name": "Python 3 (ipykernel)",
   "language": "python",
   "name": "python3"
  },
  "language_info": {
   "codemirror_mode": {
    "name": "ipython",
    "version": 3
   },
   "file_extension": ".py",
   "mimetype": "text/x-python",
   "name": "python",
   "nbconvert_exporter": "python",
   "pygments_lexer": "ipython3",
   "version": "3.9.13"
  }
 },
 "nbformat": 4,
 "nbformat_minor": 5
}
